{
 "cells": [
  {
   "cell_type": "code",
   "execution_count": 37,
   "id": "3d1f2d2e",
   "metadata": {},
   "outputs": [
    {
     "name": "stdout",
     "output_type": "stream",
     "text": [
      "The autoreload extension is already loaded. To reload it, use:\n",
      "  %reload_ext autoreload\n"
     ]
    }
   ],
   "source": [
    "%load_ext autoreload\n",
    "%autoreload 2\n",
    "import pandas as pd\n",
    "\n",
    "from scraping_functions import get_table_from_game_comments, get_weeks_in_year, get_games_in_week\n",
    "from parsing_functions import (get_punt_plays_from_df, get_team_punters, \n",
    "                               assign_team_to_punts, get_losing_team)\n",
    "from scoring_functions import (get_yrds_to_endzone, get_field_position_score,\n",
    "                               get_yrds_to_go_score, get_gamescore_multilpier, \n",
    "                               get_gameclock_multiplier, get_surrender_index)"
   ]
  },
  {
   "cell_type": "code",
   "execution_count": 38,
   "id": "099647ca",
   "metadata": {
    "scrolled": true
   },
   "outputs": [
    {
     "name": "stdout",
     "output_type": "stream",
     "text": [
      "2010, 20\n",
      "2010, 13\n",
      "2010, 2\n",
      "2010, 17\n",
      "2010, 21\n",
      "2010, 5\n",
      "2010, 15\n",
      "2010, 19\n",
      "2010, 16\n",
      "2010, 9\n",
      "2010, 8\n",
      "2010, 11\n",
      "2010, 14\n",
      "2010, 1\n",
      "2010, 7\n",
      "2010, 4\n",
      "2010, 6\n",
      "2010, 10\n",
      "2010, 12\n",
      "2010, 18\n",
      "2010, 3\n",
      "2011, 9\n",
      "2011, 1\n",
      "2011, 13\n",
      "2011, 6\n",
      "2011, 14\n",
      "2011, 7\n",
      "2011, 21\n",
      "2011, 11\n",
      "2011, 19\n",
      "2011, 5\n",
      "2011, 10\n",
      "2011, 8\n",
      "2011, 17\n",
      "2011, 18\n",
      "2011, 16\n",
      "2011, 20\n",
      "2011, 2\n",
      "2011, 15\n",
      "2011, 3\n",
      "2011, 12\n",
      "2011, 4\n",
      "2012, 12\n",
      "2012, 3\n",
      "2012, 11\n",
      "2012, 13\n",
      "2012, 14\n",
      "2012, 1\n",
      "2012, 9\n",
      "2012, 15\n",
      "2012, 6\n",
      "2012, 18\n",
      "2012, 7\n",
      "2012, 19\n",
      "2012, 16\n",
      "2012, 10\n",
      "2012, 4\n",
      "2012, 8\n",
      "2012, 20\n",
      "2012, 21\n",
      "2012, 17\n",
      "2012, 5\n",
      "2012, 2\n",
      "2013, 6\n",
      "2013, 12\n",
      "2013, 13\n",
      "2013, 11\n",
      "2013, 9\n",
      "2013, 18\n",
      "2013, 4\n",
      "2013, 10\n",
      "2013, 15\n",
      "2013, 19\n",
      "2013, 17\n",
      "2013, 16\n",
      "2013, 3\n",
      "2013, 8\n",
      "2013, 21\n",
      "2013, 7\n",
      "2013, 5\n",
      "2013, 20\n",
      "2013, 14\n",
      "2013, 2\n",
      "2013, 1\n",
      "2014, 13\n",
      "2014, 10\n",
      "2014, 12\n",
      "2014, 11\n",
      "2014, 17\n",
      "2014, 16\n",
      "2014, 5\n",
      "2014, 9\n",
      "2014, 18\n",
      "2014, 4\n",
      "2014, 3\n",
      "2014, 8\n",
      "2014, 21\n",
      "2014, 7\n",
      "2014, 1\n",
      "2014, 14\n",
      "2014, 2\n",
      "2014, 19\n",
      "2014, 15\n",
      "2014, 20\n",
      "2014, 6\n"
     ]
    }
   ],
   "source": [
    "baseline_punt_df = pd.DataFrame()\n",
    "error_games_base = []\n",
    "baseline_years = [2010, 2011, 2012, 2013, 2014]\n",
    "for year in baseline_years:\n",
    "    week_urls = get_weeks_in_year(year)\n",
    "    for week_url in week_urls:\n",
    "        week = int(week_url.split('_')[1].split('.')[0])\n",
    "        print(f'{year}, {week}')\n",
    "        if year <2021:\n",
    "            is_playoffs = week > 18\n",
    "        else:\n",
    "            is_playoffs = week > 17\n",
    "            \n",
    "        game_urls = get_games_in_week(week_url)\n",
    "        \n",
    "        for game_url in game_urls:\n",
    "            try:\n",
    "                pbp_df = get_table_from_game_comments(game_url, 'pbp')\n",
    "                losing_team = get_losing_team(pbp_df)\n",
    "                punt_df = get_punt_plays_from_df(pbp_df)\n",
    "                punters_df = get_table_from_game_comments(game_url, 'kicking', header_row=1)\n",
    "                punt_df = assign_team_to_punts(punt_df, punters_df)\n",
    "                punt_df = get_yrds_to_endzone(punt_df)\n",
    "                punt_df = get_field_position_score(punt_df)\n",
    "                punt_df = get_yrds_to_go_score(punt_df)\n",
    "                punt_df = get_gamescore_multilpier(punt_df)\n",
    "                punt_df = get_gameclock_multiplier(punt_df, year, is_playoffs )\n",
    "                punt_df = get_surrender_index(punt_df)\n",
    "            except ValueError:\n",
    "                error_games_base.append(game_url)\n",
    "                continue\n",
    "            baseline_punt_df = baseline_punt_df.append(punt_df)\n"
   ]
  },
  {
   "cell_type": "code",
   "execution_count": 39,
   "id": "ad03b4be",
   "metadata": {},
   "outputs": [
    {
     "name": "stdout",
     "output_type": "stream",
     "text": [
      "55 could not be parsed\n"
     ]
    }
   ],
   "source": [
    "print(f'{len(error_games_base)} could not be parsed')"
   ]
  },
  {
   "cell_type": "code",
   "execution_count": 40,
   "id": "ea7b068e",
   "metadata": {},
   "outputs": [],
   "source": [
    "cowardly_punt_threshold = baseline_punt_df.surrender_index.quantile(0.9)"
   ]
  },
  {
   "cell_type": "code",
   "execution_count": 41,
   "id": "47d3cdd1",
   "metadata": {
    "scrolled": false
   },
   "outputs": [
    {
     "name": "stdout",
     "output_type": "stream",
     "text": [
      "2015, 12\n",
      "2015, 3\n",
      "2015, 17\n",
      "2015, 21\n",
      "2015, 9\n",
      "2015, 8\n",
      "2015, 6\n",
      "2015, 11\n",
      "2015, 1\n",
      "2015, 4\n",
      "2015, 16\n",
      "2015, 20\n",
      "2015, 5\n",
      "2015, 14\n",
      "2015, 15\n",
      "2015, 2\n",
      "2015, 7\n",
      "2015, 19\n",
      "2015, 18\n",
      "2015, 13\n",
      "2015, 10\n",
      "2016, 18\n",
      "2016, 8\n",
      "2016, 9\n",
      "2016, 3\n",
      "2016, 11\n",
      "2016, 2\n",
      "2016, 14\n",
      "2016, 4\n",
      "2016, 12\n",
      "2016, 1\n",
      "2016, 5\n",
      "2016, 16\n",
      "2016, 7\n",
      "2016, 20\n",
      "2016, 19\n",
      "2016, 21\n",
      "2016, 17\n",
      "2016, 15\n",
      "2016, 10\n",
      "2016, 13\n",
      "2016, 6\n",
      "2017, 16\n",
      "2017, 19\n",
      "2017, 7\n",
      "2017, 12\n",
      "2017, 14\n",
      "2017, 17\n",
      "2017, 21\n",
      "2017, 10\n",
      "2017, 4\n",
      "2017, 15\n",
      "2017, 8\n",
      "2017, 9\n",
      "2017, 1\n",
      "2017, 6\n",
      "2017, 18\n",
      "2017, 20\n",
      "2017, 5\n",
      "2017, 2\n",
      "2017, 13\n",
      "2017, 11\n",
      "2017, 3\n",
      "2018, 5\n",
      "2018, 1\n",
      "2018, 10\n",
      "2018, 19\n",
      "2018, 20\n",
      "2018, 18\n",
      "2018, 21\n",
      "2018, 2\n",
      "2018, 3\n",
      "2018, 6\n",
      "2018, 12\n",
      "2018, 14\n",
      "2018, 13\n",
      "2018, 4\n",
      "2018, 7\n",
      "2018, 15\n",
      "2018, 17\n",
      "2018, 16\n",
      "2018, 9\n",
      "2018, 11\n",
      "2018, 8\n",
      "2019, 20\n",
      "2019, 10\n",
      "2019, 18\n",
      "2019, 9\n",
      "2019, 8\n",
      "2019, 4\n",
      "2019, 1\n",
      "2019, 7\n",
      "2019, 15\n",
      "2019, 6\n",
      "2019, 12\n",
      "2019, 17\n",
      "2019, 2\n",
      "2019, 21\n",
      "2019, 11\n",
      "2019, 3\n",
      "2019, 14\n",
      "2019, 16\n",
      "2019, 5\n",
      "2019, 13\n",
      "2019, 19\n"
     ]
    }
   ],
   "source": [
    "games = 0\n",
    "losing_games = 0\n",
    "losing_games_with_cowardly_punts = 0\n",
    "games_with_cowardly_punts = 0\n",
    "error_games_test = []\n",
    "\n",
    "test_years = [2015, 2016, 2017, 2018, 2019]\n",
    "for year in test_years:\n",
    "    week_urls = get_weeks_in_year(year)\n",
    "    for week_url in week_urls:\n",
    "        week = int(week_url.split('_')[1].split('.')[0])\n",
    "        print(f'{year}, {week}')\n",
    "        if year <2021:\n",
    "            is_playoffs = week > 18\n",
    "        else:\n",
    "            is_playoffs = week > 17\n",
    "            \n",
    "        game_urls = get_games_in_week(week_url)\n",
    "        \n",
    "        for game_url in game_urls:\n",
    "            try:\n",
    "                pbp_df = get_table_from_game_comments(game_url, 'pbp')\n",
    "                losing_team = get_losing_team(pbp_df)\n",
    "                punt_df = get_punt_plays_from_df(pbp_df)\n",
    "                punters_df = get_table_from_game_comments(game_url, 'kicking', header_row=1)\n",
    "                punt_df = assign_team_to_punts(punt_df, punters_df)\n",
    "                punt_df = get_yrds_to_endzone(punt_df)\n",
    "                punt_df = get_field_position_score(punt_df)\n",
    "                punt_df = get_yrds_to_go_score(punt_df)\n",
    "                punt_df = get_gamescore_multilpier(punt_df)\n",
    "                punt_df = get_gameclock_multiplier(punt_df, year, is_playoffs )\n",
    "                punt_df = get_surrender_index(punt_df)\n",
    "            except ValueError:\n",
    "                error_games_test.append(game_url)\n",
    "                continue\n",
    "            \n",
    "            cowardly_punts = punt_df[punt_df['surrender_index']>cowardly_punt_threshold]\n",
    "            \n",
    "            # we're counting team-games here, so each game counts\n",
    "            # once for each time\n",
    "            games += 2\n",
    "            if losing_team is not None:\n",
    "                losing_games += 1\n",
    "                \n",
    "            if len(cowardly_punts)>0:\n",
    "                games_with_cowardly_punts += len(cowardly_punts['Tm'].unique())\n",
    "                \n",
    "                if losing_team in cowardly_punts['Tm'].unique():\n",
    "                    losing_games_with_cowardly_punts += 1\n",
    "            \n"
   ]
  },
  {
   "cell_type": "code",
   "execution_count": 42,
   "id": "dfa97fc9",
   "metadata": {},
   "outputs": [
    {
     "name": "stdout",
     "output_type": "stream",
     "text": [
      "20 could not be parsed\n"
     ]
    }
   ],
   "source": [
    "print(f'{len(error_games_test)} could not be parsed')"
   ]
  },
  {
   "cell_type": "code",
   "execution_count": 43,
   "id": "e5a1bd32",
   "metadata": {},
   "outputs": [
    {
     "data": {
      "text/plain": [
       "2608"
      ]
     },
     "execution_count": 43,
     "metadata": {},
     "output_type": "execute_result"
    }
   ],
   "source": [
    "games "
   ]
  },
  {
   "cell_type": "code",
   "execution_count": 44,
   "id": "4d0dc8b8",
   "metadata": {},
   "outputs": [
    {
     "data": {
      "text/plain": [
       "1297"
      ]
     },
     "execution_count": 44,
     "metadata": {},
     "output_type": "execute_result"
    }
   ],
   "source": [
    "losing_games "
   ]
  },
  {
   "cell_type": "code",
   "execution_count": 45,
   "id": "05b8813c",
   "metadata": {},
   "outputs": [
    {
     "data": {
      "text/plain": [
       "449"
      ]
     },
     "execution_count": 45,
     "metadata": {},
     "output_type": "execute_result"
    }
   ],
   "source": [
    "losing_games_with_cowardly_punts "
   ]
  },
  {
   "cell_type": "code",
   "execution_count": 46,
   "id": "459841f7",
   "metadata": {},
   "outputs": [
    {
     "data": {
      "text/plain": [
       "786"
      ]
     },
     "execution_count": 46,
     "metadata": {},
     "output_type": "execute_result"
    }
   ],
   "source": [
    "games_with_cowardly_punts "
   ]
  },
  {
   "cell_type": "code",
   "execution_count": 47,
   "id": "66274d54",
   "metadata": {},
   "outputs": [
    {
     "data": {
      "text/plain": [
       "7.546178307520002"
      ]
     },
     "execution_count": 47,
     "metadata": {},
     "output_type": "execute_result"
    }
   ],
   "source": [
    "baseline_punt_df.surrender_index.quantile(0.9)"
   ]
  },
  {
   "cell_type": "code",
   "execution_count": 48,
   "id": "552e884a",
   "metadata": {},
   "outputs": [
    {
     "data": {
      "text/plain": [
       "0.2"
      ]
     },
     "execution_count": 48,
     "metadata": {},
     "output_type": "execute_result"
    }
   ],
   "source": [
    "baseline_punt_df.surrender_index.quantile(0)"
   ]
  },
  {
   "cell_type": "code",
   "execution_count": 49,
   "id": "7f6cfc92",
   "metadata": {},
   "outputs": [
    {
     "data": {
      "text/plain": [
       "1.2"
      ]
     },
     "execution_count": 49,
     "metadata": {},
     "output_type": "execute_result"
    }
   ],
   "source": [
    "baseline_punt_df.surrender_index.quantile(0.5)"
   ]
  },
  {
   "cell_type": "code",
   "execution_count": 50,
   "id": "aa46ce6b",
   "metadata": {},
   "outputs": [
    {
     "data": {
      "text/plain": [
       "1.2"
      ]
     },
     "execution_count": 50,
     "metadata": {},
     "output_type": "execute_result"
    }
   ],
   "source": [
    "baseline_punt_df.surrender_index.quantile(0.5)"
   ]
  },
  {
   "cell_type": "code",
   "execution_count": 51,
   "id": "ef674143",
   "metadata": {},
   "outputs": [
    {
     "data": {
      "text/plain": [
       "0.5712468193384224"
      ]
     },
     "execution_count": 51,
     "metadata": {},
     "output_type": "execute_result"
    }
   ],
   "source": [
    "(449.0/1297.0)*(1297/2608)/(786/2608.0)"
   ]
  },
  {
   "cell_type": "code",
   "execution_count": null,
   "id": "c875876c",
   "metadata": {},
   "outputs": [],
   "source": []
  }
 ],
 "metadata": {
  "kernelspec": {
   "display_name": "Python 3 (ipykernel)",
   "language": "python",
   "name": "python3"
  },
  "language_info": {
   "codemirror_mode": {
    "name": "ipython",
    "version": 3
   },
   "file_extension": ".py",
   "mimetype": "text/x-python",
   "name": "python",
   "nbconvert_exporter": "python",
   "pygments_lexer": "ipython3",
   "version": "3.7.11"
  }
 },
 "nbformat": 4,
 "nbformat_minor": 5
}
