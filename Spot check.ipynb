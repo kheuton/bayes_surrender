{
 "cells": [
  {
   "cell_type": "code",
   "execution_count": 1,
   "id": "bcd08fb5",
   "metadata": {},
   "outputs": [],
   "source": [
    "%load_ext autoreload\n",
    "%autoreload 2\n",
    "import pandas as pd\n",
    "\n",
    "from scraping_functions import get_table_from_game_comments, get_weeks_in_year, get_games_in_week\n",
    "from parsing_functions import (get_punt_plays_from_df, get_team_punters, \n",
    "                               assign_team_to_punts, get_losing_team)\n",
    "from scoring_functions import (get_yrds_to_endzone, get_field_position_score,\n",
    "                               get_yrds_to_go_score, get_gamescore_multilpier, \n",
    "                               get_gameclock_multiplier, get_surrender_index)"
   ]
  },
  {
   "cell_type": "code",
   "execution_count": 2,
   "id": "048d9774",
   "metadata": {},
   "outputs": [
    {
     "data": {
      "text/plain": [
       "'313.15'"
      ]
     },
     "execution_count": 2,
     "metadata": {},
     "output_type": "execute_result"
    }
   ],
   "source": [
    "# 313.15\n",
    "game_url = 'https://www.pro-football-reference.com/boxscores/200010080phi.htm'\n",
    "year=2000\n",
    "is_playoffs=False\n",
    "\n",
    "pbp_df = get_table_from_game_comments(game_url, 'pbp')\n",
    "losing_team = get_losing_team(pbp_df)\n",
    "punt_df = get_punt_plays_from_df(pbp_df)\n",
    "punters_df = get_table_from_game_comments(game_url, 'kicking', header_row=1)\n",
    "punt_df = assign_team_to_punts(punt_df, punters_df)\n",
    "punt_df = get_yrds_to_endzone(punt_df)\n",
    "punt_df = get_field_position_score(punt_df)\n",
    "punt_df = get_yrds_to_go_score(punt_df)\n",
    "punt_df = get_gamescore_multilpier(punt_df)\n",
    "punt_df = get_gameclock_multiplier(punt_df, year, is_playoffs )\n",
    "punt_df = get_surrender_index(punt_df)\n",
    "f'{punt_df.surrender_index.max():.2f}'"
   ]
  },
  {
   "cell_type": "code",
   "execution_count": 3,
   "id": "9f36b2ae",
   "metadata": {},
   "outputs": [
    {
     "data": {
      "text/plain": [
       "'217.29'"
      ]
     },
     "execution_count": 3,
     "metadata": {},
     "output_type": "execute_result"
    }
   ],
   "source": [
    "# 315.49\n",
    "# This punt doesn't match because Jon Bois forgot how long overtime was\n",
    "game_url ='https://www.pro-football-reference.com/boxscores/201810070htx.htm'\n",
    "year=2018\n",
    "is_playoffs = False\n",
    "pbp_df = get_table_from_game_comments(game_url, 'pbp')\n",
    "losing_team = get_losing_team(pbp_df)\n",
    "punt_df = get_punt_plays_from_df(pbp_df)\n",
    "punters_df = get_table_from_game_comments(game_url, 'kicking', header_row=1)\n",
    "punt_df = assign_team_to_punts(punt_df, punters_df)\n",
    "punt_df = get_yrds_to_endzone(punt_df)\n",
    "punt_df = get_field_position_score(punt_df)\n",
    "punt_df = get_yrds_to_go_score(punt_df)\n",
    "punt_df = get_gamescore_multilpier(punt_df)\n",
    "punt_df = get_gameclock_multiplier(punt_df, year, is_playoffs )\n",
    "punt_df = get_surrender_index(punt_df)\n",
    "f'{punt_df.surrender_index.max():.2f}'"
   ]
  },
  {
   "cell_type": "code",
   "execution_count": 4,
   "id": "88790f5e",
   "metadata": {},
   "outputs": [
    {
     "data": {
      "text/plain": [
       "'321.74'"
      ]
     },
     "execution_count": 4,
     "metadata": {},
     "output_type": "execute_result"
    }
   ],
   "source": [
    "#321.74\n",
    "game_url = 'https://www.pro-football-reference.com/boxscores/200112020cin.htm'\n",
    "year=2001\n",
    "is_playoffs = False\n",
    "pbp_df = get_table_from_game_comments(game_url, 'pbp')\n",
    "losing_team = get_losing_team(pbp_df)\n",
    "punt_df = get_punt_plays_from_df(pbp_df)\n",
    "punters_df = get_table_from_game_comments(game_url, 'kicking', header_row=1)\n",
    "punt_df = assign_team_to_punts(punt_df, punters_df)\n",
    "punt_df = get_yrds_to_endzone(punt_df)\n",
    "punt_df = get_field_position_score(punt_df)\n",
    "punt_df = get_yrds_to_go_score(punt_df)\n",
    "punt_df = get_gamescore_multilpier(punt_df)\n",
    "punt_df = get_gameclock_multiplier(punt_df, year, is_playoffs )\n",
    "punt_df = get_surrender_index(punt_df)\n",
    "f'{punt_df.surrender_index.max():.2f}'"
   ]
  },
  {
   "cell_type": "code",
   "execution_count": 5,
   "id": "ddb41def",
   "metadata": {
    "scrolled": true
   },
   "outputs": [
    {
     "data": {
      "text/plain": [
       "'535.86'"
      ]
     },
     "execution_count": 5,
     "metadata": {},
     "output_type": "execute_result"
    }
   ],
   "source": [
    "# 535.86\n",
    "game_url='https://www.pro-football-reference.com/boxscores/200610080min.htm'\n",
    "year=2006\n",
    "is_playoffs = False\n",
    "pbp_df = get_table_from_game_comments(game_url, 'pbp')\n",
    "losing_team = get_losing_team(pbp_df)\n",
    "punt_df = get_punt_plays_from_df(pbp_df)\n",
    "punters_df = get_table_from_game_comments(game_url, 'kicking', header_row=1)\n",
    "punt_df = assign_team_to_punts(punt_df, punters_df)\n",
    "punt_df = get_yrds_to_endzone(punt_df)\n",
    "punt_df = get_field_position_score(punt_df)\n",
    "punt_df = get_yrds_to_go_score(punt_df)\n",
    "punt_df = get_gamescore_multilpier(punt_df)\n",
    "punt_df = get_gameclock_multiplier(punt_df, year, is_playoffs )\n",
    "punt_df = get_surrender_index(punt_df)\n",
    "f'{punt_df.surrender_index.max():.2f}'"
   ]
  },
  {
   "cell_type": "code",
   "execution_count": null,
   "id": "33f8b3d9",
   "metadata": {},
   "outputs": [],
   "source": []
  }
 ],
 "metadata": {
  "kernelspec": {
   "display_name": "Python 3 (ipykernel)",
   "language": "python",
   "name": "python3"
  },
  "language_info": {
   "codemirror_mode": {
    "name": "ipython",
    "version": 3
   },
   "file_extension": ".py",
   "mimetype": "text/x-python",
   "name": "python",
   "nbconvert_exporter": "python",
   "pygments_lexer": "ipython3",
   "version": "3.7.11"
  }
 },
 "nbformat": 4,
 "nbformat_minor": 5
}
